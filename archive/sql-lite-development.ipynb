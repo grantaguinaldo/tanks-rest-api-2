{
 "cells": [
  {
   "cell_type": "code",
   "execution_count": 1,
   "id": "037cf908",
   "metadata": {},
   "outputs": [],
   "source": [
    "import sqlite3\n",
    "import pandas as pd\n",
    "from sqlite3 import connect\n",
    "conn = sqlite3.connect('tanks-4-09-data.db')"
   ]
  },
  {
   "cell_type": "code",
   "execution_count": 2,
   "id": "8c6735df",
   "metadata": {},
   "outputs": [],
   "source": [
    "solar_data = pd.read_csv('table_7_1_6_solarabs.csv')\n",
    "met_data = pd.read_sql('SELECT * FROM met_data', conn)\n",
    "chem_data = pd.read_csv('input_data/chemical_db.csv')\n",
    "revised_met_data = pd.read_csv('revised-met-data-2020.csv')\n",
    "\n",
    "#revised_met_data.to_sql('revised_met_data', conn, if_exists='replace', index=False)\n",
    "#solar_data.to_sql('solar_abs_data', conn, if_exists='replace', index=False)\n",
    "#met_data.to_sql('met_data', conn, if_exists='replace', index=False)\n",
    "#chem_data.to_sql('chemical_data', conn, if_exists='replace', index=False)"
   ]
  },
  {
   "cell_type": "code",
   "execution_count": 22,
   "id": "6b1cdded",
   "metadata": {},
   "outputs": [
    {
     "data": {
      "text/html": [
       "<div>\n",
       "<style scoped>\n",
       "    .dataframe tbody tr th:only-of-type {\n",
       "        vertical-align: middle;\n",
       "    }\n",
       "\n",
       "    .dataframe tbody tr th {\n",
       "        vertical-align: top;\n",
       "    }\n",
       "\n",
       "    .dataframe thead th {\n",
       "        text-align: right;\n",
       "    }\n",
       "</style>\n",
       "<table border=\"1\" class=\"dataframe\">\n",
       "  <thead>\n",
       "    <tr style=\"text-align: right;\">\n",
       "      <th></th>\n",
       "      <th>NAME</th>\n",
       "      <th>CAS</th>\n",
       "      <th>VP_MOLWT</th>\n",
       "      <th>MOLWT</th>\n",
       "      <th>REID</th>\n",
       "      <th>VP_COEF_A</th>\n",
       "      <th>VP_COEF_B</th>\n",
       "      <th>VP_COEF_C</th>\n",
       "    </tr>\n",
       "  </thead>\n",
       "  <tbody>\n",
       "    <tr>\n",
       "      <th>0</th>\n",
       "      <td>Acetaldehyde</td>\n",
       "      <td>00075-07-0</td>\n",
       "      <td>44.00</td>\n",
       "      <td>44.00</td>\n",
       "      <td>0.0</td>\n",
       "      <td>8.0050</td>\n",
       "      <td>1600.017</td>\n",
       "      <td>291.809</td>\n",
       "    </tr>\n",
       "    <tr>\n",
       "      <th>1</th>\n",
       "      <td>Acetic acid</td>\n",
       "      <td>00064-19-7</td>\n",
       "      <td>60.05</td>\n",
       "      <td>60.05</td>\n",
       "      <td>0.0</td>\n",
       "      <td>7.3870</td>\n",
       "      <td>1533.313</td>\n",
       "      <td>222.309</td>\n",
       "    </tr>\n",
       "    <tr>\n",
       "      <th>2</th>\n",
       "      <td>Acetic anhydride</td>\n",
       "      <td>00108-24-7</td>\n",
       "      <td>102.09</td>\n",
       "      <td>102.09</td>\n",
       "      <td>0.0</td>\n",
       "      <td>7.1490</td>\n",
       "      <td>1444.718</td>\n",
       "      <td>199.817</td>\n",
       "    </tr>\n",
       "    <tr>\n",
       "      <th>3</th>\n",
       "      <td>Acetone</td>\n",
       "      <td>00067-64-1</td>\n",
       "      <td>58.08</td>\n",
       "      <td>58.08</td>\n",
       "      <td>0.0</td>\n",
       "      <td>7.1170</td>\n",
       "      <td>1210.595</td>\n",
       "      <td>229.664</td>\n",
       "    </tr>\n",
       "    <tr>\n",
       "      <th>4</th>\n",
       "      <td>Acetonitrile</td>\n",
       "      <td>00075-05-8</td>\n",
       "      <td>41.05</td>\n",
       "      <td>41.05</td>\n",
       "      <td>0.0</td>\n",
       "      <td>7.1190</td>\n",
       "      <td>1314.400</td>\n",
       "      <td>230.000</td>\n",
       "    </tr>\n",
       "    <tr>\n",
       "      <th>5</th>\n",
       "      <td>Acrylamide</td>\n",
       "      <td>00079-06-1</td>\n",
       "      <td>71.09</td>\n",
       "      <td>71.09</td>\n",
       "      <td>0.0</td>\n",
       "      <td>11.2932</td>\n",
       "      <td>3939.877</td>\n",
       "      <td>273.160</td>\n",
       "    </tr>\n",
       "    <tr>\n",
       "      <th>6</th>\n",
       "      <td>Acrylic acid</td>\n",
       "      <td>00079-10-7</td>\n",
       "      <td>72.10</td>\n",
       "      <td>72.10</td>\n",
       "      <td>0.0</td>\n",
       "      <td>8.5387</td>\n",
       "      <td>2305.843</td>\n",
       "      <td>266.547</td>\n",
       "    </tr>\n",
       "    <tr>\n",
       "      <th>7</th>\n",
       "      <td>Acrylonitrile</td>\n",
       "      <td>00107-13-1</td>\n",
       "      <td>53.06</td>\n",
       "      <td>53.06</td>\n",
       "      <td>0.0</td>\n",
       "      <td>7.0380</td>\n",
       "      <td>1232.530</td>\n",
       "      <td>222.470</td>\n",
       "    </tr>\n",
       "    <tr>\n",
       "      <th>8</th>\n",
       "      <td>Allyl alcohol</td>\n",
       "      <td>00107-18-6</td>\n",
       "      <td>58.08</td>\n",
       "      <td>58.08</td>\n",
       "      <td>0.0</td>\n",
       "      <td>0.0000</td>\n",
       "      <td>0.000</td>\n",
       "      <td>0.000</td>\n",
       "    </tr>\n",
       "    <tr>\n",
       "      <th>9</th>\n",
       "      <td>Allyl chloride</td>\n",
       "      <td>00107-05-1</td>\n",
       "      <td>76.53</td>\n",
       "      <td>76.53</td>\n",
       "      <td>0.0</td>\n",
       "      <td>0.0000</td>\n",
       "      <td>0.000</td>\n",
       "      <td>0.000</td>\n",
       "    </tr>\n",
       "  </tbody>\n",
       "</table>\n",
       "</div>"
      ],
      "text/plain": [
       "               NAME         CAS  VP_MOLWT   MOLWT  REID  VP_COEF_A  VP_COEF_B  \\\n",
       "0      Acetaldehyde  00075-07-0     44.00   44.00   0.0     8.0050   1600.017   \n",
       "1       Acetic acid  00064-19-7     60.05   60.05   0.0     7.3870   1533.313   \n",
       "2  Acetic anhydride  00108-24-7    102.09  102.09   0.0     7.1490   1444.718   \n",
       "3           Acetone  00067-64-1     58.08   58.08   0.0     7.1170   1210.595   \n",
       "4      Acetonitrile  00075-05-8     41.05   41.05   0.0     7.1190   1314.400   \n",
       "5        Acrylamide  00079-06-1     71.09   71.09   0.0    11.2932   3939.877   \n",
       "6      Acrylic acid  00079-10-7     72.10   72.10   0.0     8.5387   2305.843   \n",
       "7     Acrylonitrile  00107-13-1     53.06   53.06   0.0     7.0380   1232.530   \n",
       "8     Allyl alcohol  00107-18-6     58.08   58.08   0.0     0.0000      0.000   \n",
       "9    Allyl chloride  00107-05-1     76.53   76.53   0.0     0.0000      0.000   \n",
       "\n",
       "   VP_COEF_C  \n",
       "0    291.809  \n",
       "1    222.309  \n",
       "2    199.817  \n",
       "3    229.664  \n",
       "4    230.000  \n",
       "5    273.160  \n",
       "6    266.547  \n",
       "7    222.470  \n",
       "8      0.000  \n",
       "9      0.000  "
      ]
     },
     "execution_count": 22,
     "metadata": {},
     "output_type": "execute_result"
    }
   ],
   "source": [
    "queryStringProduct1 = \"SELECT * FROM chemical_data LIMIT 10\" \n",
    "queryStringProduct2 = \"WHERE CATEGORY == \" + \"'\"  \n",
    "queryStringProduct = queryStringProduct1  \n",
    "sqlQueryProduct = pd.read_sql(queryStringProduct, conn)\n",
    "sqlQueryProduct[['NAME', 'CAS', 'VP_MOLWT', 'MOLWT', 'REID', 'VP_COEF_A', 'VP_COEF_B', 'VP_COEF_C']]"
   ]
  },
  {
   "cell_type": "code",
   "execution_count": 33,
   "id": "385cd550",
   "metadata": {},
   "outputs": [],
   "source": [
    "imput_chemical_data = [{'name': 'Acrylonitrile', 'composition': 0.30}, \n",
    "                       {'name': 'Acetone', 'composition': 0.60}, \n",
    "                       {'name': 'Acetic anhydride', 'composition': 0.10}]\n",
    "\n",
    "name_list = [each['name'] for each in imput_chemical_data]\n",
    "comp_list = [each['composition'] for each in imput_chemical_data]\n",
    "\n",
    "if sum(comp_list) >= 0.999999:\n",
    "    \n",
    "    strBuild = \"(\"\n",
    "    for idx, each in enumerate(name_list[:-1]):\n",
    "        strBuild += \"'\" + each + \"'\"  + ', '\n",
    "    whereString = strBuild + \"'\" + name_list[-1]+ \"'\" + \")\"\n",
    "\n",
    "    queryStringProductOL1 = \"SELECT * FROM chemical_data \"\n",
    "    queryStringProductOL2 = \"WHERE name IN \" + whereString\n",
    "    queryStringProductOL3 = queryStringProduct1 + queryStringProduct2\n",
    "    sqlQueryProductOL = pd.read_sql(queryStringProductOL3, conn)\n",
    "    queryProductOL = sqlQueryProductOL[['NAME', 'CAS', 'VP_MOLWT', 'MOLWT', \n",
    "                                         'REID', 'VP_COEF_A', 'VP_COEF_B', \n",
    "                                         'VP_COEF_C']]\n",
    "    productDataOL = queryProductOL.assign(composition = comp_list)\n",
    "    \n",
    "else:\n",
    "    raise ValueError('Not 100%') "
   ]
  },
  {
   "cell_type": "code",
   "execution_count": 35,
   "id": "4e9c4121",
   "metadata": {},
   "outputs": [],
   "source": [
    "tlx_averageDailyMaxLiqSurfaceTemp_R = 500\n",
    "tln_averageDailyMinLiqSurfaceTemp_R = 500\n",
    "tla_averageDailyLiquidTemp = 500\n",
    "\n",
    "\n",
    "\n",
    "check_A = productDataOL['VP_COEF_A'].values.tolist()\n",
    "check_B = productDataOL['VP_COEF_B'].values.tolist()\n",
    "check_C = productDataOL['VP_COEF_C'].values.tolist()\n",
    "\n",
    "if 0 not in check_A:\n",
    "    if 0 not in check_B:\n",
    "        if 0 not in check_C:\n",
    "\n",
    "            # tlx_averageDailyMaxLiqSurfaceTemp_R\n",
    "            productDataOL['log_pva'] = productDataOL['VP_COEF_A'] - ((productDataOL['VP_COEF_B']) /\\\n",
    "                                                                           (tlx_averageDailyMaxLiqSurfaceTemp_R + productDataOL['VP_COEF_C']))\n",
    "            productDataOL['pva'] = 10**(productDataOL['log_pva'])\n",
    "\n",
    "            productDataOL['frac_pva'] = productDataOL['pva'] * productDataOL['composition']\n",
    "            productDataOL['moles'] = 100*productDataOL['composition'] / productDataOL['MOLWT']\n",
    "            \n",
    "            totalMoles = sum(productDataOL['moles'].values.tolist())\n",
    "            \n",
    "            productDataOL['mol_frac'] = productDataOL['moles'] / totalMoles\n",
    "            productDataOL['partial_pressure'] = productDataOL['mol_frac'] * productDataOL['pva']\n",
    "            \n",
    "            pva = sum(productDataOL['partial_pressure'].values.tolist())\n",
    "            \n",
    "            productDataOL['vap_mole_frac'] = productDataOL['partial_pressure'] / pva\n",
    "            productDataOL['mol_wt_frac'] = productDataOL['vap_mole_frac'] * productDataOL['VP_MOLWT']\n",
    "            \n",
    "            mv = sum(productDataOL['mol_wt_frac'].values.tolist())\n",
    "\n",
    "        else:\n",
    "            raise ValueError('Value C Not Present in Data')\n",
    "    else:\n",
    "        raise ValueError('Value B Not Present in Data')\n",
    "else: \n",
    "    raise ValueError('Value A Not Present in Data')"
   ]
  },
  {
   "cell_type": "code",
   "execution_count": 36,
   "id": "1f58faf8",
   "metadata": {},
   "outputs": [
    {
     "data": {
      "text/plain": [
       "61.751081892433824"
      ]
     },
     "execution_count": 36,
     "metadata": {},
     "output_type": "execute_result"
    }
   ],
   "source": [
    "mv"
   ]
  },
  {
   "cell_type": "code",
   "execution_count": null,
   "id": "ee9f1ab7",
   "metadata": {},
   "outputs": [],
   "source": [
    "# Put in city, and get all of the TAX values.\n",
    "locationString1 = 'Long Beach, CA'\n",
    "locationString2 = \"SELECT * FROM revised_met_data WHERE location == \" \n",
    "locationString3 = \"'\" + str(locationString1) + \"'\"\n",
    "queryStringTax = locationString2 + locationString3 \n",
    "sqlQueryTax = pd.read_sql(queryStringTax, conn)\n",
    "sqlQueryTax[sqlQueryTax['symbol'] == 'TAX'].values.tolist()[0][3:16]"
   ]
  },
  {
   "cell_type": "code",
   "execution_count": null,
   "id": "c6618bf9",
   "metadata": {},
   "outputs": [],
   "source": [
    "# Put in city, and get all of the TAX values.\n",
    "locationString1 = 'Long Beach, CA'\n",
    "locationString2 = \"SELECT * FROM revised_met_data WHERE location == \"\n",
    "locationString3 = \"'\" + str(locationString1) + \"'\"\n",
    "queryStringAtmPress = locationString2 + locationString3 \n",
    "sqlQueryAtmPress = pd.read_sql(queryStringAtmPress, conn)\n",
    "sqlQueryAtmPress[sqlQueryAtmPress['symbol'] == 'TAN'].values.tolist()[0][3:16]"
   ]
  },
  {
   "cell_type": "code",
   "execution_count": null,
   "id": "c43702dd",
   "metadata": {},
   "outputs": [],
   "source": [
    "locationString = 'Long Beach, California'\n",
    "queryStringAtmPress = \"SELECT * FROM met_data WHERE CTYST == \" + \"'\" + str(locationString) + \"'\"\n",
    "sqlQueryAtmPress = pd.read_sql(queryStringAtmPress, conn)"
   ]
  },
  {
   "cell_type": "code",
   "execution_count": null,
   "id": "e6badee9",
   "metadata": {},
   "outputs": [],
   "source": [
    "list(set(pd.read_sql('SELECT * FROM chemical_data', conn)['CATEGORY'].tolist()))"
   ]
  },
  {
   "cell_type": "code",
   "execution_count": null,
   "id": "7c82eb97",
   "metadata": {},
   "outputs": [],
   "source": [
    "\n",
    "#productClassString = 'Petroleum Distillates'\n",
    "productNameString = 'Crude oil (RVP 5)'\n",
    "queryStringProduct = \"SELECT * FROM chemical_data WHERE CATEGORY == \" + \"'\" + str(productClassString) + \"'\"\n",
    "sqlQueryProduct = pd.read_sql(queryStringProduct, conn)\n",
    "rvp = sqlQueryProduct['REID'].values.tolist()[0]\n",
    "#rvp = sqlQueryProduct"
   ]
  },
  {
   "cell_type": "code",
   "execution_count": null,
   "id": "7ebf3fff",
   "metadata": {},
   "outputs": [],
   "source": [
    "rvp"
   ]
  },
  {
   "cell_type": "code",
   "execution_count": null,
   "id": "c5d4ed58",
   "metadata": {},
   "outputs": [],
   "source": [
    "productClassString = 'Crude Oils'\n",
    "#productNameString = 'Crude oil (RVP 5)'\n",
    "queryStringProduct1 = \"SELECT * FROM chemical_data \" \n",
    "queryStringProduct2 = \"WHERE CATEGORY == \" + \"'\"  \n",
    "queryStringProduct3 = str(productClassString) + \"'\"\n",
    "queryStringProduct = queryStringProduct1 + queryStringProduct2 + queryStringProduct3\n",
    "sqlQueryProduct = pd.read_sql(queryStringProduct, conn)\n",
    "#sqlQueryProductData = sqlQueryProduct[sqlQueryProduct['NAME'] == productNameString]\n",
    "#sqlQueryProductRVP = sqlQueryProductData['REID'].values.tolist()[0]\n",
    "sqlQueryProduct"
   ]
  },
  {
   "cell_type": "code",
   "execution_count": null,
   "id": "84a24c5c",
   "metadata": {},
   "outputs": [],
   "source": [
    "sqlQueryProduct[(sqlQueryProduct['CATEGORY'] == 'Petroleum Distillates') & (sqlQueryProduct['REID'] > 0)]['NAME'].values.tolist()"
   ]
  },
  {
   "cell_type": "code",
   "execution_count": null,
   "id": "d0efe168",
   "metadata": {},
   "outputs": [],
   "source": [
    "queryStringProduct1 = \"SELECT * FROM chemical_data \" \n",
    "queryStringProduct2 = \"WHERE CATEGORY == \" + \"'\"  \n",
    "queryStringProduct = queryStringProduct1 + queryStringProduct2 \n",
    "sqlQueryProduct = pd.read_sql(queryStringProduct, conn)"
   ]
  },
  {
   "cell_type": "code",
   "execution_count": 70,
   "id": "59e810f3",
   "metadata": {},
   "outputs": [],
   "source": [
    "class Grant:\n",
    "    def __init__(self):\n",
    "        pass\n",
    "    \n",
    "    def func1(self):\n",
    "        self.x = 900\n",
    "        return self.x\n",
    "    \n",
    "    def func2(self):\n",
    "        return self.x"
   ]
  },
  {
   "cell_type": "code",
   "execution_count": 71,
   "id": "3e2dc972",
   "metadata": {},
   "outputs": [],
   "source": [
    "ggg = Grant()"
   ]
  },
  {
   "cell_type": "code",
   "execution_count": 72,
   "id": "da4dc41c",
   "metadata": {},
   "outputs": [
    {
     "ename": "AttributeError",
     "evalue": "'Grant' object has no attribute 'x'",
     "output_type": "error",
     "traceback": [
      "\u001b[0;31m---------------------------------------------------------------------------\u001b[0m",
      "\u001b[0;31mAttributeError\u001b[0m                            Traceback (most recent call last)",
      "\u001b[0;32m/var/folders/q5/ny1flrzs6nv9nk5k366w2gtr0000gn/T/ipykernel_35395/3285573271.py\u001b[0m in \u001b[0;36m<module>\u001b[0;34m\u001b[0m\n\u001b[0;32m----> 1\u001b[0;31m \u001b[0mggg\u001b[0m\u001b[0;34m.\u001b[0m\u001b[0mfunc2\u001b[0m\u001b[0;34m(\u001b[0m\u001b[0;34m)\u001b[0m\u001b[0;34m\u001b[0m\u001b[0;34m\u001b[0m\u001b[0m\n\u001b[0m",
      "\u001b[0;32m/var/folders/q5/ny1flrzs6nv9nk5k366w2gtr0000gn/T/ipykernel_35395/3421909149.py\u001b[0m in \u001b[0;36mfunc2\u001b[0;34m(self)\u001b[0m\n\u001b[1;32m      8\u001b[0m \u001b[0;34m\u001b[0m\u001b[0m\n\u001b[1;32m      9\u001b[0m     \u001b[0;32mdef\u001b[0m \u001b[0mfunc2\u001b[0m\u001b[0;34m(\u001b[0m\u001b[0mself\u001b[0m\u001b[0;34m)\u001b[0m\u001b[0;34m:\u001b[0m\u001b[0;34m\u001b[0m\u001b[0;34m\u001b[0m\u001b[0m\n\u001b[0;32m---> 10\u001b[0;31m         \u001b[0;32mreturn\u001b[0m \u001b[0mself\u001b[0m\u001b[0;34m.\u001b[0m\u001b[0mx\u001b[0m\u001b[0;34m\u001b[0m\u001b[0;34m\u001b[0m\u001b[0m\n\u001b[0m",
      "\u001b[0;31mAttributeError\u001b[0m: 'Grant' object has no attribute 'x'"
     ]
    }
   ],
   "source": [
    "ggg.func2()"
   ]
  },
  {
   "cell_type": "code",
   "execution_count": null,
   "id": "4b2f04bc",
   "metadata": {},
   "outputs": [],
   "source": []
  }
 ],
 "metadata": {
  "kernelspec": {
   "display_name": "Python 3 (ipykernel)",
   "language": "python",
   "name": "python3"
  },
  "language_info": {
   "codemirror_mode": {
    "name": "ipython",
    "version": 3
   },
   "file_extension": ".py",
   "mimetype": "text/x-python",
   "name": "python",
   "nbconvert_exporter": "python",
   "pygments_lexer": "ipython3",
   "version": "3.7.3"
  }
 },
 "nbformat": 4,
 "nbformat_minor": 5
}
